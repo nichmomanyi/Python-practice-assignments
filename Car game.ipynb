{
 "cells": [
  {
   "cell_type": "code",
   "execution_count": null,
   "id": "c0a1d37b",
   "metadata": {},
   "outputs": [],
   "source": [
    "command=\"\"\n",
    "started=False\n",
    "\"\"\"\n",
    "Car game\n",
    "\n",
    "\"\"\"\n",
    "while True:\n",
    "    command=input('> ')\n",
    "    if command== 'help':\n",
    "        print(\"\"\"\n",
    "    start: Start a car\n",
    "    stop: Stop a car\n",
    "    quit: Exit\n",
    "       \"\"\")\n",
    "    elif command=='start':\n",
    "        print('start a car')\n",
    "        if started:\n",
    "            print('Car already started')\n",
    "        else:\n",
    "            started=True\n",
    "    elif command=='stop':\n",
    "        if not started:\n",
    "            print('car already stopped')\n",
    "        else:\n",
    "            started=False\n",
    "            print('stop a car')\n",
    "    elif command=='quit':\n",
    "        break\n",
    "    else:\n",
    "        print(\"I don't understand\")"
   ]
  },
  {
   "cell_type": "code",
   "execution_count": null,
   "id": "6d451a3c",
   "metadata": {},
   "outputs": [],
   "source": []
  }
 ],
 "metadata": {
  "kernelspec": {
   "display_name": "Python 3 (ipykernel)",
   "language": "python",
   "name": "python3"
  },
  "language_info": {
   "codemirror_mode": {
    "name": "ipython",
    "version": 3
   },
   "file_extension": ".py",
   "mimetype": "text/x-python",
   "name": "python",
   "nbconvert_exporter": "python",
   "pygments_lexer": "ipython3",
   "version": "3.9.12"
  }
 },
 "nbformat": 4,
 "nbformat_minor": 5
}
