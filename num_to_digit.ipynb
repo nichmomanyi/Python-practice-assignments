{
 "cells": [
  {
   "cell_type": "code",
   "execution_count": null,
   "id": "11f80518",
   "metadata": {},
   "outputs": [],
   "source": [
    "phone=input('phone: ')\n",
    "numbs={'1':'one','2':'two','3':'three','4':'four','5':'five','6':'six',\n",
    "       '7':'seven','8':'eight','9':'nine','0':'zero'}\n",
    "output=''\n",
    "for no in phone:\n",
    "    output= numbs.get(no)\n",
    "    print(output)\n",
    "    "
   ]
  },
  {
   "cell_type": "code",
   "execution_count": null,
   "id": "96fef32d",
   "metadata": {},
   "outputs": [],
   "source": []
  }
 ],
 "metadata": {
  "kernelspec": {
   "display_name": "Python 3 (ipykernel)",
   "language": "python",
   "name": "python3"
  },
  "language_info": {
   "codemirror_mode": {
    "name": "ipython",
    "version": 3
   },
   "file_extension": ".py",
   "mimetype": "text/x-python",
   "name": "python",
   "nbconvert_exporter": "python",
   "pygments_lexer": "ipython3",
   "version": "3.9.12"
  }
 },
 "nbformat": 4,
 "nbformat_minor": 5
}
