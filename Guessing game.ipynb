{
 "cells": [
  {
   "cell_type": "code",
   "execution_count": null,
   "id": "7ef5d87e",
   "metadata": {},
   "outputs": [],
   "source": [
    "# Guessing Game of secret number\n",
    "secret_number=9\n",
    "guess_count=0\n",
    "guess_limit=3\n",
    "while guess_count<guess_limit:\n",
    "    guess=int(input(\"Guess: \"))\n",
    "    guess_count+=1\n",
    "    if guess==secret_number:\n",
    "        print(\"You won\")\n",
    "        break\n",
    "else:\n",
    "    print(\"You lose\")\n",
    "    \n",
    "    "
   ]
  },
  {
   "cell_type": "code",
   "execution_count": null,
   "id": "ebc3a719",
   "metadata": {},
   "outputs": [],
   "source": []
  }
 ],
 "metadata": {
  "kernelspec": {
   "display_name": "Python 3 (ipykernel)",
   "language": "python",
   "name": "python3"
  },
  "language_info": {
   "codemirror_mode": {
    "name": "ipython",
    "version": 3
   },
   "file_extension": ".py",
   "mimetype": "text/x-python",
   "name": "python",
   "nbconvert_exporter": "python",
   "pygments_lexer": "ipython3",
   "version": "3.9.12"
  }
 },
 "nbformat": 4,
 "nbformat_minor": 5
}
